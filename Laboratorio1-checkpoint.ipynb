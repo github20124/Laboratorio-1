{
 "cells": [
  {
   "cell_type": "markdown",
   "id": "6597ee14-7e07-4f71-b165-f2743b05e9b0",
   "metadata": {},
   "source": [
    "# Laboratorio #1 - (Git & Github)"
   ]
  },
  {
   "cell_type": "markdown",
   "id": "04cda51c-506e-42f4-ab0f-91352f5f8d45",
   "metadata": {},
   "source": [
    "# Investigar: Qué es Git y Github"
   ]
  },
  {
   "cell_type": "markdown",
   "id": "4e8cb7d3-d0bb-4733-ba74-6dd3fb6509fa",
   "metadata": {},
   "source": [
    "Git almacena cada versión guardada como una ‘instantánea’ en lugar de una lista de los cambios realizados en cada archivo. Puede hacer referencia a antiguas instantáneas siempre que lo necesite y las nuevas instantáneas se crean cuando se modifica el proyecto"
   ]
  },
  {
   "cell_type": "markdown",
   "id": "26fe48d9-d56a-4814-b834-6ac4b4c7bfd6",
   "metadata": {},
   "source": [
    "Git también le permite «empujar» y «tirar» de los cambios hacia y desde las instalaciones de otros ordenadores. Esto lo convierte en lo que se conoce como ‘Sistema de control de versiones distribuido’, y permite que varios desarrolladores trabajen en el mismo proyecto."
   ]
  },
  {
   "cell_type": "markdown",
   "id": "220aaf29-0bf4-4ea7-85c8-1455e1ea611f",
   "metadata": {},
   "source": [
    "Sin embargo, hay algunos inconvenientes para manejar el desarrollo de esta manera. Como el software local está instalado en su máquina individual, git no puede leer las ediciones que otros desarrolladores puedan estar haciendo en tiempo real. Esto significa que si usted y un compañero de equipo están trabajando en un proyecto simultáneamente, no podrán ver el trabajo del otro."
   ]
  },
  {
   "cell_type": "markdown",
   "id": "c5b9a10a-abce-45b4-82ea-6d0e580cf6f8",
   "metadata": {},
   "source": [
    "Así que si no está completamente seguro de cuándo los miembros del equipo trabajarán en su proyecto, git es mejor para el uso individual. De esta manera, puede evitar conflictos o que alguien más anule accidentalmente su código."
   ]
  },
  {
   "cell_type": "markdown",
   "id": "a0a3a58a-3a92-4244-92a0-179d69bec14d",
   "metadata": {},
   "source": [
    "Git es un sistema de control de versiones distribuido gratuito y de código abierto diseñado para manejar todo, desde proyectos pequeños hasta proyectos muy grandes con velocidad y eficiencia."
   ]
  },
  {
   "cell_type": "markdown",
   "id": "c333df95-cb64-4ad0-aa71-b240a87b9f6c",
   "metadata": {
    "tags": []
   },
   "source": [
    "Git maneja sus datos como un conjunto de copias instantáneas de un sistema de archivos miniatura."
   ]
  },
  {
   "cell_type": "markdown",
   "id": "53cb6037-aae5-47a2-9824-17e5ccd15a59",
   "metadata": {},
   "source": [
    "Git permite “rastrear” el progreso de un proyecto a lo largo del tiempo ya que hace “capturas” del mismo a medida que evoluciona y los cambios se van registrando. Esto permite ver qué cambios se hicieron, quién los hizo y por qué, e incluso volver a versiones anteriores."
   ]
  },
  {
   "cell_type": "markdown",
   "id": "6ddc34b3-ee12-4003-adb8-2e4f029e7a6b",
   "metadata": {},
   "source": [
    "# Github"
   ]
  },
  {
   "cell_type": "markdown",
   "id": "244128a3-f604-46a6-8c01-172a3d5c973e",
   "metadata": {},
   "source": [
    "GitHub facilita la colaboración con git. Es una plataforma que puede mantener repositorios de código en almacenamiento basado en la nube para que varios desarrolladores puedan trabajar en un solo proyecto y ver las ediciones de cada uno en tiempo real."
   ]
  },
  {
   "cell_type": "markdown",
   "id": "c0f519dc-55a1-48e4-ae82-965abd005dd3",
   "metadata": {},
   "source": [
    "Además, también incluye funciones de organización y gestión de proyectos. Puede asignar tareas a individuos o grupos, establecer permisos y roles para los colaboradores y usar la moderación de comentarios para mantener a todos en la tarea."
   ]
  },
  {
   "cell_type": "markdown",
   "id": "6623cf45-52aa-4563-b7ac-53a5035163df",
   "metadata": {},
   "source": [
    "Los repositorios de GitHub están disponibles públicamente. Los desarrolladores de todo el mundo pueden interactuar y contribuir al código de los demás para modificarlo o mejorarlo, lo que se conoce como «codificación social». En cierto modo, esto hace que GitHub sea un sitio de redes para profesionales de la web."
   ]
  },
  {
   "cell_type": "markdown",
   "id": "b5bad05d-b165-47d2-9405-31dbd9ef780d",
   "metadata": {},
   "source": [
    "Hay tres acciones principales que puede realizar cuando se trata de interactuar con el código de otros desarrolladores en GitHub:\n",
    "•\tBifurcación: El proceso de copiar el código de otra persona del repositorio para modificarlo.\n",
    "•\tPull: Cuando haya terminado de hacer cambios en el código de otra persona, puede compartirlos con el propietario original a través de una «solicitud pull».\n",
    "•\tFusión: Los propietarios pueden añadir nuevos cambios a sus proyectos a través de una fusión, y dar crédito a los contribuyentes que los han sugerido.\n"
   ]
  },
  {
   "cell_type": "markdown",
   "id": "a5e96019-664d-4ba6-a3fb-2333c66acac2",
   "metadata": {},
   "source": [
    "Para resumir la diferencia entre git vs GitHub:\n",
    "    \n",
    "1.\tgit es un software de VCS local que permite a los desarrolladores guardar instantáneas de sus proyectos a lo largo del tiempo. Generalmente es mejor para uso individual.\n",
    "\n",
    "2.\tGitHub es una plataforma basada en la web que incorpora las características de control de versiones de git para que puedan ser utilizadas de forma colaborativa. También incluye características de gestión de proyectos y equipos, así como oportunidades para la creación de redes y la codificación social.\n"
   ]
  },
  {
   "cell_type": "markdown",
   "id": "cdaab272-2d0e-4637-bdef-0787941b47d0",
   "metadata": {},
   "source": [
    "Flujo de trabajo en Git y GitHub Git es capaz de rastrear todos los archivos contenidos en un repositorio. Para comprender cómo Git registra los cambios y cómo podemos compartir dichos cambios con nuestros colaboradores es importante entender cómo se estructura Git y cómo se sincroniza con GitHub. "
   ]
  },
  {
   "cell_type": "markdown",
   "id": "63c1fdb3-e2e3-4b56-b2e8-c0461814f48f",
   "metadata": {},
   "source": [
    "Hay cuatro “zonas” de trabajo:\n",
    "\n",
    "1) Directorio de trabajo (working directory): es donde se está trabajando. Esta zona se sincroniza con los archivos locales del ordenador. \n",
    "2) Área de preparación (staging area o Index): es la zona intermedia entre el directorio de trabajo y el repositorio local de Git. Es la zona de borradores. El usuario debe seleccionar los archivos que se van a registrar en la siguiente “captura” de Git. \n",
    "3) Repositorio local (local repository o HEAD): es donde se registran todos los cambios capturados por Git en tu ordenador. \n",
    "4) Repositorio remoto (remote repository): es donde se registran todos los cambios capturados por Git en la nube (GitHub).\n"
   ]
  },
  {
   "cell_type": "markdown",
   "id": "aedf89ce-a361-49f8-a6c6-cdcf77db1714",
   "metadata": {},
   "source": [
    "# MagicCells"
   ]
  },
  {
   "cell_type": "markdown",
   "id": "526aa140-12ca-46f8-8df9-368b2e166d0e",
   "metadata": {},
   "source": [
    "Las llamadas magias o comandos magicos en IPython / Jupyter notebooks son shortcuts que nos permite realizar acciones sobre nuestro sistema operativo mayormente e interactuar con nuestro shell o notebook, existen dos tipos de magias, y estas se invocan usando el carácter “%”, los magic commands se dividen en dos tipos:\n",
    "\n",
    "    %line_magic (afectan una sola linea de codigo)\n",
    "\n",
    "    %% cell_magic (afectan una celda)\n"
   ]
  },
  {
   "cell_type": "markdown",
   "id": "029c6396-2b2f-4264-a0a1-db4772464857",
   "metadata": {},
   "source": [
    "Magics para hacer Debug\n",
    "\n",
    "Existen dos herramientas muy buenas para este tema, la primera es %xmode que nos permite extender la forma en que el traceback de python nos entrega la información de los errores.\n",
    "Controlling Exceptions: %xmode\n",
    "\n",
    "Posee tres modos\n",
    "\n",
    "Plain (forma reducida del traceback)\n",
    "Context (por defecto)\n",
    "Verbose (forma extendida de traceback)\n"
   ]
  },
  {
   "cell_type": "markdown",
   "id": "18539f1c-78c9-461f-8088-c3231705eb5c",
   "metadata": {},
   "source": [
    "Algunos tipos de comandos"
   ]
  },
  {
   "cell_type": "markdown",
   "id": "07452380-4c15-4609-b585-42b96890eaba",
   "metadata": {},
   "source": [
    "%time: Un comando mágico que nos permitirá conocer cuanto tiempo a tomado una tarea ser completada. "
   ]
  },
  {
   "cell_type": "markdown",
   "id": "d1952387-c2a6-41e7-b50d-a69189e0433f",
   "metadata": {},
   "source": [
    "%run: Es un comando que, como su nombre nos dice, nos permite ejecutar scripts directamente en el Shell de IPython"
   ]
  },
  {
   "cell_type": "markdown",
   "id": "4df7cfc6-bb3b-4d1e-a455-1538c558b47f",
   "metadata": {},
   "source": [
    "El comando %load simplemente carga todo el contenido del archivo en el namespace de IPython"
   ]
  },
  {
   "cell_type": "markdown",
   "id": "194d12b2-b47a-4d98-9016-402fe5ec6ed1",
   "metadata": {},
   "source": [
    "El comando %edit abrirá un editor de texto donde podremos modificar el archivo.\n",
    "\n",
    "Para crear un nuevo archivo hacemos uso del comando %save, pasando como argumentos de que línea a que línea queremos guardar.\n"
   ]
  },
  {
   "cell_type": "markdown",
   "id": "0c0d1a8a-015c-42ce-b97f-7345cf86da06",
   "metadata": {},
   "source": [
    "# Link de github\n",
    "\n",
    "https://github.com/github20124/pedrocabrera.git\n"
   ]
  },
  {
   "cell_type": "code",
   "execution_count": null,
   "id": "b67e31f6-80cc-42b7-8b2c-7b831f25901e",
   "metadata": {},
   "outputs": [],
   "source": []
  }
 ],
 "metadata": {
  "kernelspec": {
   "display_name": "Python 3 (ipykernel)",
   "language": "python",
   "name": "python3"
  },
  "language_info": {
   "codemirror_mode": {
    "name": "ipython",
    "version": 3
   },
   "file_extension": ".py",
   "mimetype": "text/x-python",
   "name": "python",
   "nbconvert_exporter": "python",
   "pygments_lexer": "ipython3",
   "version": "3.11.5"
  }
 },
 "nbformat": 4,
 "nbformat_minor": 5
}
